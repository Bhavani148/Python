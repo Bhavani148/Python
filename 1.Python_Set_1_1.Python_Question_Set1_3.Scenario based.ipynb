{
 "cells": [
  {
   "cell_type": "code",
   "execution_count": null,
   "metadata": {},
   "outputs": [],
   "source": [
    "#Scenario 1: A system checks if a user is eligible to vote based on their age."
   ]
  },
  {
   "cell_type": "code",
   "execution_count": null,
   "metadata": {},
   "outputs": [],
   "source": [
    "age=int(input(\"Enter the age:\"))\n",
    "\n",
    "if(age<18):\n",
    "    print(\"Not eligible to Vote\")\n",
    "else:\n",
    "    print(\"Eligible to Vote\")"
   ]
  },
  {
   "cell_type": "code",
   "execution_count": null,
   "metadata": {},
   "outputs": [],
   "source": [
    "#Scenario 2: A program processes a list of numbers and needs to find the largest value."
   ]
  },
  {
   "cell_type": "code",
   "execution_count": null,
   "metadata": {},
   "outputs": [],
   "source": [
    "numbers=[10,72,40,55]\n",
    "largest=max(numbers)\n",
    "print(\"The largest number in the list is:\", largest)"
   ]
  },
  {
   "cell_type": "code",
   "execution_count": null,
   "metadata": {},
   "outputs": [],
   "source": [
    "numbers=[10,30,59,78,27]\n",
    "largest=numbers[0]\n",
    "for num in numbers:\n",
    "    if num>largest:\n",
    "        largest=num\n",
    "print(\"The largest number in the list is:\", largest)"
   ]
  },
  {
   "cell_type": "code",
   "execution_count": null,
   "metadata": {},
   "outputs": [],
   "source": [
    "#Scenario 3: A company provides employees with a 10% bonus if their salary exceeds $50,000."
   ]
  },
  {
   "cell_type": "code",
   "execution_count": null,
   "metadata": {},
   "outputs": [],
   "source": [
    "salary=int(input(\"Enter the salary of the Employee:\"))\n",
    "\n",
    "if (salary> 50000):\n",
    "    bonus = salary * 0.10\n",
    "else:\n",
    "    bonus = 0\n",
    "print(\"Bonus Amount is:\",bonus)\n"
   ]
  },
  {
   "cell_type": "code",
   "execution_count": null,
   "metadata": {},
   "outputs": [],
   "source": [
    "#Scenario 4: A program evaluates a number to determine if it is even or odd."
   ]
  },
  {
   "cell_type": "code",
   "execution_count": null,
   "metadata": {},
   "outputs": [],
   "source": [
    "num=int(input(\"Enter the number:\"))\n",
    "\n",
    "if (num%2==0):\n",
    "    print(\"The number is even number:\", num)\n",
    "else:\n",
    "    print(\"The number is odd number:\", num)"
   ]
  },
  {
   "cell_type": "code",
   "execution_count": null,
   "metadata": {},
   "outputs": [],
   "source": [
    "#Scenario 5: A text-processing tool reverses a given word or sentence for formatting purposes."
   ]
  },
  {
   "cell_type": "code",
   "execution_count": null,
   "metadata": {},
   "outputs": [],
   "source": [
    "word=input(\"Enter the word:\")\n",
    "reverseword=\"\"\n",
    "for char in word:\n",
    "    reverseword=char+reverseword\n",
    "print(\"The reverse of the word\", reverseword)"
   ]
  },
  {
   "cell_type": "code",
   "execution_count": null,
   "metadata": {},
   "outputs": [],
   "source": [
    "#Scenario 6: A grading system determines whether a student has passed or failed based on their score"
   ]
  },
  {
   "cell_type": "code",
   "execution_count": null,
   "metadata": {},
   "outputs": [],
   "source": [
    "mark=int(input(\"Enter the marks\"))\n",
    "if (mark >=40 ):\n",
    "    print(\"The student is pass\")\n",
    "else:\n",
    "    print(\"The student is fail\")"
   ]
  },
  {
   "cell_type": "code",
   "execution_count": null,
   "metadata": {},
   "outputs": [],
   "source": [
    "#Scenario 7: A retail store offers a 20% discount if a customer’s total order exceeds $100. "
   ]
  },
  {
   "cell_type": "code",
   "execution_count": null,
   "metadata": {},
   "outputs": [],
   "source": [
    "itemname=input(\"Enter the productname\")\n",
    "itemamt=int(input(\"Enter the value of the product\"))\n",
    "if (itemamt>=100):\n",
    "    discount=itemamt*0.20\n",
    "else:\n",
    "    discount=0\n",
    "print(\"Discount Amount:\", discount)"
   ]
  },
  {
   "cell_type": "code",
   "execution_count": 2,
   "metadata": {},
   "outputs": [
    {
     "name": "stdout",
     "output_type": "stream",
     "text": [
      "Enter the number of products: 3\n",
      "Enter the amount of product 1: 123\n",
      "Enter the amount of product 2: 23\n",
      "Enter the amount of product 3: 345\n",
      "Total Amount: 491\n",
      "Discount Amount: 98.2\n",
      "Final Payable Amount: 392.8\n"
     ]
    }
   ],
   "source": [
    "num = int(input(\"Enter the number of products: \"))\n",
    "total = 0\n",
    "for i in range(num):\n",
    "    amount = int(input(f\"Enter the amount of product {i+1}: \"))\n",
    "    total = total + amount\n",
    "if total >= 100:\n",
    "    discount = total * 0.20\n",
    "else:\n",
    "    discount = 0\n",
    "\n",
    "print(\"Total Amount:\", total)\n",
    "print(\"Discount Amount:\", discount)\n",
    "print(\"Final Payable Amount:\", total - discount)"
   ]
  },
  {
   "cell_type": "code",
   "execution_count": 3,
   "metadata": {},
   "outputs": [],
   "source": [
    "#Scenario 8: A banking system processes withdrawal requests and ensures the user has enough balance."
   ]
  },
  {
   "cell_type": "code",
   "execution_count": 18,
   "metadata": {},
   "outputs": [
    {
     "name": "stdout",
     "output_type": "stream",
     "text": [
      "Enter the balance in your account: 2000\n",
      "Enter the amount to Withdrawal:1000\n",
      "Withdrawal successful\n",
      "Remaining Balance: 1000\n"
     ]
    }
   ],
   "source": [
    "balance=int(input(\"Enter the balance in your account: \"))\n",
    "withdrawal=int(input(\"Enter the amount to Withdrawal:\"))\n",
    "balanceamt=balance-withdrawal\n",
    "if (withdrawal>balanceamt):    \n",
    "    print(\"Insufficient balance in your account\")\n",
    "elif (balanceamt>= 1000):\n",
    "    print(\"Withdrawal successful\")\n",
    "    print(\"Remaining Balance:\", balanceamt)\n",
    "else:\n",
    "    print(\"You don't have enough balance in your account to Withdraw\")"
   ]
  },
  {
   "cell_type": "code",
   "execution_count": 19,
   "metadata": {},
   "outputs": [],
   "source": [
    "#A calendar system verifies whether a given year is a leap year based on standard leap year rules.\n",
    "#Write logic to determine whether a given year is a leap year."
   ]
  },
  {
   "cell_type": "code",
   "execution_count": 24,
   "metadata": {},
   "outputs": [
    {
     "name": "stdout",
     "output_type": "stream",
     "text": [
      "Enter the year: 2024\n",
      "The given year is leap year\n"
     ]
    }
   ],
   "source": [
    "givenyear=int(input(\"Enter the year: \"))\n",
    "if (givenyear%4==0) or (givenyear%100!=0 and givenyear%400==0):\n",
    "    print(\"The given year is leap year\")\n",
    "else:\n",
    "    print(\"The given year is not leap year\")"
   ]
  },
  {
   "cell_type": "code",
   "execution_count": null,
   "metadata": {},
   "outputs": [],
   "source": []
  }
 ],
 "metadata": {
  "kernelspec": {
   "display_name": "Python 3",
   "language": "python",
   "name": "python3"
  },
  "language_info": {
   "codemirror_mode": {
    "name": "ipython",
    "version": 3
   },
   "file_extension": ".py",
   "mimetype": "text/x-python",
   "name": "python",
   "nbconvert_exporter": "python",
   "pygments_lexer": "ipython3",
   "version": "3.7.4"
  }
 },
 "nbformat": 4,
 "nbformat_minor": 2
}
