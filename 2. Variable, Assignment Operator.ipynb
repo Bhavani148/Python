{
 "cells": [
  {
   "cell_type": "code",
   "execution_count": 1,
   "metadata": {},
   "outputs": [
    {
     "name": "stdout",
     "output_type": "stream",
     "text": [
      "30\n"
     ]
    }
   ],
   "source": [
    "a=10\n",
    "b=20\n",
    "print(a+b)"
   ]
  },
  {
   "cell_type": "code",
   "execution_count": 2,
   "metadata": {},
   "outputs": [
    {
     "name": "stdout",
     "output_type": "stream",
     "text": [
      "300\n"
     ]
    }
   ],
   "source": [
    "num1=100\n",
    "num2=200\n",
    "add=num1+num2\n",
    "print(add)"
   ]
  },
  {
   "cell_type": "code",
   "execution_count": 3,
   "metadata": {},
   "outputs": [
    {
     "name": "stdout",
     "output_type": "stream",
     "text": [
      "The addition of 2 numbers:\n",
      "Enter the value of No1 10\n",
      "Enter the value of No2 20\n",
      "The result is: 300\n"
     ]
    }
   ],
   "source": [
    "print(\"The addition of 2 numbers:\")\n",
    "no1=10\n",
    "no2=20\n",
    "print(\"Enter the value of No1\",no1)\n",
    "print(\"Enter the value of No2\",no2)\n",
    "Add=no1+no2\n",
    "print(\"The result is:\", add)"
   ]
  },
  {
   "cell_type": "code",
   "execution_count": 4,
   "metadata": {},
   "outputs": [
    {
     "name": "stdout",
     "output_type": "stream",
     "text": [
      "Enter the value of no1: 50\n",
      "Enter the value of no2: 40\n",
      "Thevalue of Sum: 90\n",
      "The value of Sub: 10\n"
     ]
    }
   ],
   "source": [
    "mul=10\n",
    "no1=int(input(\"Enter the value of no1: \"))\n",
    "no2=int(input(\"Enter the value of no2: \"))\n",
    "Sum=no1+no2\n",
    "Sub=no1-no2\n",
    "print(\"Thevalue of Sum:\",Sum)\n",
    "print(\"The value of Sub:\",Sub)"
   ]
  },
  {
   "cell_type": "code",
   "execution_count": null,
   "metadata": {},
   "outputs": [],
   "source": []
  }
 ],
 "metadata": {
  "kernelspec": {
   "display_name": "Python 3",
   "language": "python",
   "name": "python3"
  },
  "language_info": {
   "codemirror_mode": {
    "name": "ipython",
    "version": 3
   },
   "file_extension": ".py",
   "mimetype": "text/x-python",
   "name": "python",
   "nbconvert_exporter": "python",
   "pygments_lexer": "ipython3",
   "version": "3.7.4"
  }
 },
 "nbformat": 4,
 "nbformat_minor": 2
}
