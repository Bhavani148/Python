{
 "cells": [
  {
   "cell_type": "code",
   "execution_count": null,
   "metadata": {},
   "outputs": [],
   "source": [
    "# create Class and Functions"
   ]
  },
  {
   "cell_type": "code",
   "execution_count": 21,
   "metadata": {},
   "outputs": [],
   "source": [
    "class multipleFunctions():\n",
    "    def oddEven():\n",
    "        num=int(input(\"Enter a number\"))\n",
    "        if(num%2==0):\n",
    "            print(num,\" is Even number\")\n",
    "            message=\"Even Number\"\n",
    "        else:\n",
    "            print(num, \" is Odd number\")\n",
    "            message=\"Odd Number\"\n",
    "        return message\n",
    "    \n",
    "    def Eligible():\n",
    "        gender=input(\"Enter the Gender: \")\n",
    "        age=int(input(\"Enter the Age: \"))\n",
    "        if ((gender == \"Male\" or gender == \"male\") and age >= 21) or ((gender == \"Female\" or gender == \"female\")and age >= 18):\n",
    "            return \"Eligible\"\n",
    "        else:\n",
    "            return \"Not Eligible\"\n",
    "    \n",
    "    def percentage():\n",
    "        sub1=int(input(\"Subject1= \"))\n",
    "        sub2=int(input(\"Subject2= \"))\n",
    "        sub3=int(input(\"Subject3= \"))\n",
    "        sub4=int(input(\"Subject4= \"))\n",
    "        sub5=int(input(\"Subject5= \"))\n",
    "        Total = sub1+sub2+sub3+sub4+sub5\n",
    "        Percentage = Total/5\n",
    "        print(\"Total:\", Total)\n",
    "        print(\"Percentage:\", Percentage)\n",
    "        return Total, Percentage\n",
    "\n",
    "    def triangle():\n",
    "        Height=int(input(\"Height:\"))\n",
    "        Breadth=int(input(\"Breadth:\"))\n",
    "        areaoftriangle = (Height*Breadth)/2\n",
    "        print(\"Area of Triangle: \", areaoftriangle)\n",
    "        Height1=int(input(\"Height1:\"))\n",
    "        Height2=int(input(\"Height2:\"))\n",
    "        Breadth=int(input(\"Breadth:\"))\n",
    "        perimeteroftriangle = Height1+Height2+Breadth\n",
    "        print(\"Perimeter of Triangle: \", perimeteroftriangle)"
   ]
  },
  {
   "cell_type": "code",
   "execution_count": null,
   "metadata": {},
   "outputs": [],
   "source": []
  },
  {
   "cell_type": "code",
   "execution_count": 22,
   "metadata": {},
   "outputs": [
    {
     "name": "stdout",
     "output_type": "stream",
     "text": [
      "Enter a number23\n",
      "23  is Odd number\n"
     ]
    },
    {
     "data": {
      "text/plain": [
       "'Odd Number'"
      ]
     },
     "execution_count": 22,
     "metadata": {},
     "output_type": "execute_result"
    }
   ],
   "source": [
    "multipleFunctions.oddEven()"
   ]
  },
  {
   "cell_type": "code",
   "execution_count": 23,
   "metadata": {},
   "outputs": [
    {
     "name": "stdout",
     "output_type": "stream",
     "text": [
      "Enter the Gender: Male\n",
      "Enter the Age: 13\n"
     ]
    },
    {
     "data": {
      "text/plain": [
       "'Not Eligible'"
      ]
     },
     "execution_count": 23,
     "metadata": {},
     "output_type": "execute_result"
    }
   ],
   "source": [
    "multipleFunctions.Eligible()"
   ]
  },
  {
   "cell_type": "code",
   "execution_count": 24,
   "metadata": {},
   "outputs": [
    {
     "name": "stdout",
     "output_type": "stream",
     "text": [
      "Subject1= 100\n",
      "Subject2= 90\n",
      "Subject3= 99\n",
      "Subject4= 100\n",
      "Subject5= 100\n",
      "Total: 489\n",
      "Percentage: 97.8\n"
     ]
    },
    {
     "data": {
      "text/plain": [
       "(489, 97.8)"
      ]
     },
     "execution_count": 24,
     "metadata": {},
     "output_type": "execute_result"
    }
   ],
   "source": [
    "multipleFunctions.percentage()"
   ]
  },
  {
   "cell_type": "code",
   "execution_count": 25,
   "metadata": {},
   "outputs": [
    {
     "name": "stdout",
     "output_type": "stream",
     "text": [
      "Height:12\n",
      "Breadth:34\n",
      "Area of Triangle:  204.0\n",
      "Height1:45\n",
      "Height2:56\n",
      "Breadth:3\n",
      "Perimeter of Triangle:  104\n"
     ]
    }
   ],
   "source": [
    "multipleFunctions.triangle()"
   ]
  }
 ],
 "metadata": {
  "kernelspec": {
   "display_name": "Python 3",
   "language": "python",
   "name": "python3"
  },
  "language_info": {
   "codemirror_mode": {
    "name": "ipython",
    "version": 3
   },
   "file_extension": ".py",
   "mimetype": "text/x-python",
   "name": "python",
   "nbconvert_exporter": "python",
   "pygments_lexer": "ipython3",
   "version": "3.7.4"
  }
 },
 "nbformat": 4,
 "nbformat_minor": 2
}
