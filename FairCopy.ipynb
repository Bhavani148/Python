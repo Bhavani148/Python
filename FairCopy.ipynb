{
 "cells": [
  {
   "cell_type": "code",
   "execution_count": 8,
   "metadata": {},
   "outputs": [],
   "source": [
    "from mulFunctions import multipleFunctions\n",
    "#from fileName import className"
   ]
  },
  {
   "cell_type": "code",
   "execution_count": 9,
   "metadata": {},
   "outputs": [
    {
     "name": "stdout",
     "output_type": "stream",
     "text": [
      "Enter a number12\n",
      "12  is Even number\n"
     ]
    },
    {
     "data": {
      "text/plain": [
       "'Even Number'"
      ]
     },
     "execution_count": 9,
     "metadata": {},
     "output_type": "execute_result"
    }
   ],
   "source": [
    "multipleFunctions.oddEven()\n",
    "#className.funtionName()"
   ]
  },
  {
   "cell_type": "code",
   "execution_count": 10,
   "metadata": {},
   "outputs": [
    {
     "name": "stdout",
     "output_type": "stream",
     "text": [
      "Enter the Gender: female\n",
      "Enter the Age: 23\n"
     ]
    },
    {
     "data": {
      "text/plain": [
       "'Eligible'"
      ]
     },
     "execution_count": 10,
     "metadata": {},
     "output_type": "execute_result"
    }
   ],
   "source": [
    "multipleFunctions.Eligible()"
   ]
  },
  {
   "cell_type": "code",
   "execution_count": 11,
   "metadata": {},
   "outputs": [
    {
     "name": "stdout",
     "output_type": "stream",
     "text": [
      "Subject1= 100\n",
      "Subject2= 90\n",
      "Subject3= 98\n",
      "Subject4= 98\n",
      "Subject5= 99\n",
      "Total: 485\n",
      "Percentage: 97.0\n"
     ]
    },
    {
     "data": {
      "text/plain": [
       "(485, 97.0)"
      ]
     },
     "execution_count": 11,
     "metadata": {},
     "output_type": "execute_result"
    }
   ],
   "source": [
    "multipleFunctions.percentage()"
   ]
  },
  {
   "cell_type": "code",
   "execution_count": 12,
   "metadata": {},
   "outputs": [
    {
     "name": "stdout",
     "output_type": "stream",
     "text": [
      "Height:12\n",
      "Breadth:2\n",
      "Area of Triangle:  12.0\n",
      "Height1:3\n",
      "Height2:4\n",
      "Breadth:5\n",
      "Perimeter of Triangle:  12\n"
     ]
    }
   ],
   "source": [
    "multipleFunctions.triangle()"
   ]
  },
  {
   "cell_type": "code",
   "execution_count": null,
   "metadata": {},
   "outputs": [],
   "source": []
  }
 ],
 "metadata": {
  "kernelspec": {
   "display_name": "Python 3",
   "language": "python",
   "name": "python3"
  },
  "language_info": {
   "codemirror_mode": {
    "name": "ipython",
    "version": 3
   },
   "file_extension": ".py",
   "mimetype": "text/x-python",
   "name": "python",
   "nbconvert_exporter": "python",
   "pygments_lexer": "ipython3",
   "version": "3.7.4"
  }
 },
 "nbformat": 4,
 "nbformat_minor": 2
}
